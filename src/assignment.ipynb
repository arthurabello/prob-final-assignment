{
 "cells": [
  {
   "cell_type": "markdown",
   "id": "8455b468",
   "metadata": {},
   "source": [
    "Imports and User parameters\n"
   ]
  },
  {
   "cell_type": "code",
   "execution_count": 77,
   "id": "4825cd63",
   "metadata": {},
   "outputs": [
    {
     "name": "stdout",
     "output_type": "stream",
     "text": [
      "id = 2, m = 5.5, c = 0.02, f = 0.35, N = 425.0, M = 3000.0\n"
     ]
    }
   ],
   "source": [
    "import pandas as pd\n",
    "import numpy as np\n",
    "\n",
    "df = pd.read_excel(\"../data/dados-2025.xlsx\", sheet_name=\"Planilha1\")\n",
    "row = df.loc[df[\"Nome\"].str.contains(\"Arthur Rabello Oliveira\")].iloc[0]\n",
    "\n",
    "iD, m, c, f, N, M = (\n",
    "    int(row[\"ID\"]),\n",
    "    float(row[\"m\"]),\n",
    "    float(row[\"c\"]),\n",
    "    float(row[\"f\"]),\n",
    "    float(row[\"N\"]),\n",
    "    float(row[\"M\"]),\n",
    ")\n",
    "\n",
    "print(f\"id = {iD}, m = {m}, c = {c}, f = {f}, N = {N}, M = {M}\")\n"
   ]
  },
  {
   "cell_type": "markdown",
   "id": "bfb12ae2",
   "metadata": {},
   "source": [
    "Problema 1 a)"
   ]
  },
  {
   "cell_type": "code",
   "execution_count": 78,
   "id": "5f07b591",
   "metadata": {},
   "outputs": [
    {
     "name": "stdout",
     "output_type": "stream",
     "text": [
      "Service duration:  mean = 5.060 min,  std = 4.508 min\n",
      "Waiting time:      mean = 4.522 min,  std = 7.394 min\n",
      "P(wait > 3 min) = 37.390%\n",
      "Fraction of server idle time = 49.079%\n"
     ]
    }
   ],
   "source": [
    "# ------------------------\n",
    "# Exercise parameters\n",
    "# ------------------------\n",
    "arrival_rate      = 1 / 10  # arrival rate (1 customer every 10 min ⇒ λ = 0.1 min⁻¹)\n",
    "n_customers = 10_000        # simulation size\n",
    "\n",
    "fast_fraction = 0.35        # fraction of “fast” customers\n",
    "slope = 0.02                # slope of the linear pdf (2–6 min)\n",
    "mean_exp = 5.5              # mean (min) of the exponential service time for the others\n",
    "\n",
    "# ------------------------\n",
    "# Utility function: samples service times for fast customers\n",
    "# pdf:  f(x) = 0.25 + slope·(x – 4)  for  2 < x < 6\n",
    "# ------------------------\n",
    "def sample_linear_en(size, slope=slope):\n",
    "    a = 0.25 - 4 * slope         # f(x) = a + b·x  (b = slope)\n",
    "    b = slope\n",
    "    A = b / 2                    # coefficient of x² in the CDF\n",
    "    B = a\n",
    "    u = np.random.rand(size)     # uniform samples (0, 1)\n",
    "\n",
    "    # Solve A·x² + B·x – (2a + 2b) – u = 0  (positive root → x ∈ (2, 6))\n",
    "    C = -2 * a - 2 * b - u\n",
    "    x = (-B + np.sqrt(B ** 2 - 4 * A * C)) / (2 * A)\n",
    "    return x\n",
    "\n",
    "# ------------------------\n",
    "# 1. Generate arrivals\n",
    "# ------------------------\n",
    "rng = np.random.default_rng()\n",
    "inter_arrival_times = rng.exponential(scale=1 / arrival_rate, size=n_customers)  # scale = 10 min\n",
    "arrivals = np.cumsum(inter_arrival_times)\n",
    "\n",
    "# ------------------------\n",
    "# 2. Generate service times\n",
    "# ------------------------\n",
    "is_fast = rng.random(n_customers) < fast_fraction\n",
    "\n",
    "service_times = np.empty(n_customers)\n",
    "service_times[is_fast]  = sample_linear_en(is_fast.sum())\n",
    "service_times[~is_fast] = rng.exponential(scale=mean_exp, size=(~is_fast).sum())\n",
    "\n",
    "# ------------------------\n",
    "# 3. Simulate the queue (M/G/1) and measure waits/idleness\n",
    "# ------------------------\n",
    "start_times   = np.empty(n_customers)\n",
    "end_times     = np.empty(n_customers)\n",
    "idle_time = 0.0\n",
    "\n",
    "# customer 0\n",
    "start_times[0] = arrivals[0]\n",
    "end_times[0]   = start_times[0] + service_times[0]\n",
    "\n",
    "# remaining customers\n",
    "for i in range(1, n_customers):\n",
    "    if arrivals[i] > end_times[i - 1]:\n",
    "        idle_time += arrivals[i] - end_times[i - 1]          # server was idle\n",
    "    start_times[i] = max(arrivals[i], end_times[i - 1])\n",
    "    end_times[i]   = start_times[i] + service_times[i]\n",
    "\n",
    "wait_times = start_times - arrivals\n",
    "\n",
    "# ------------------------\n",
    "# 4. Requested statistics\n",
    "# ------------------------\n",
    "mean_service  = service_times.mean()\n",
    "std_service   = service_times.std(ddof=1)\n",
    "mean_wait     = wait_times.mean()\n",
    "std_wait      = wait_times.std(ddof=1)\n",
    "p_wait3       = np.mean(wait_times > 3)            # P(wait > 3 min)\n",
    "idle_fraction = idle_time / end_times[-1]\n",
    "\n",
    "print(f\"Service duration:  mean = {mean_service:.3f} min,  std = {std_service:.3f} min\")\n",
    "print(f\"Waiting time:      mean = {mean_wait:.3f} min,  std = {std_wait:.3f} min\")\n",
    "print(f\"P(wait > 3 min) = {p_wait3:.3%}\")\n",
    "print(f\"Fraction of server idle time = {idle_fraction:.3%}\")\n"
   ]
  }
 ],
 "metadata": {
  "kernelspec": {
   "display_name": "coolvenv",
   "language": "python",
   "name": "python3"
  },
  "language_info": {
   "codemirror_mode": {
    "name": "ipython",
    "version": 3
   },
   "file_extension": ".py",
   "mimetype": "text/x-python",
   "name": "python",
   "nbconvert_exporter": "python",
   "pygments_lexer": "ipython3",
   "version": "3.13.3"
  }
 },
 "nbformat": 4,
 "nbformat_minor": 5
}
