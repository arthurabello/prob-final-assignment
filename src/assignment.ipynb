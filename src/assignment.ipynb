{
 "cells": [
  {
   "cell_type": "markdown",
   "id": "8455b468",
   "metadata": {},
   "source": [
    "Imports and User parameters\n"
   ]
  },
  {
   "cell_type": "code",
   "execution_count": 4,
   "id": "4825cd63",
   "metadata": {},
   "outputs": [
    {
     "name": "stderr",
     "output_type": "stream",
     "text": [
      "/tmp/ipykernel_30518/1935690683.py:6: FutureWarning: Calling float on a single element Series is deprecated and will raise a TypeError in the future. Use float(ser.iloc[0]) instead\n",
      "  m = float(row[\"m\"])\n",
      "/tmp/ipykernel_30518/1935690683.py:7: FutureWarning: Calling float on a single element Series is deprecated and will raise a TypeError in the future. Use float(ser.iloc[0]) instead\n",
      "  c = float(row[\"c\"])\n",
      "/tmp/ipykernel_30518/1935690683.py:8: FutureWarning: Calling float on a single element Series is deprecated and will raise a TypeError in the future. Use float(ser.iloc[0]) instead\n",
      "  f = float(row[\"f\"])\n",
      "/tmp/ipykernel_30518/1935690683.py:9: FutureWarning: Calling float on a single element Series is deprecated and will raise a TypeError in the future. Use float(ser.iloc[0]) instead\n",
      "  N = int(float(row[\"N\"]))   # robust even if cell is \"425\" or \"425.0\"\n",
      "/tmp/ipykernel_30518/1935690683.py:10: FutureWarning: Calling float on a single element Series is deprecated and will raise a TypeError in the future. Use float(ser.iloc[0]) instead\n",
      "  M = int(float(row[\"M\"]))\n"
     ]
    }
   ],
   "source": [
    "import pandas as pd\n",
    "import numpy as np\n",
    "\n",
    "df = pd.read_excel(\"../data/dados-2025.xlsx\", sheet_name=\"Planilha1\")\n",
    "row = df[df[\"Nome\"].str.contains(\"Arthur Rabello Oliveira\")]\n",
    "m = float(row[\"m\"])\n",
    "c = float(row[\"c\"])\n",
    "f = float(row[\"f\"])\n",
    "N = int(float(row[\"N\"]))   # robust even if cell is \"425\" or \"425.0\"\n",
    "M = int(float(row[\"M\"]))\n"
   ]
  },
  {
   "cell_type": "markdown",
   "id": "bfb12ae2",
   "metadata": {},
   "source": [
    "Problema 1 a)"
   ]
  },
  {
   "cell_type": "code",
   "execution_count": 5,
   "id": "5f07b591",
   "metadata": {},
   "outputs": [],
   "source": [
    "sigma_ln = np.sqrt(np.log1p(c**2))\n",
    "mu_ln    = np.log(m) - 0.5*sigma_ln**2\n",
    "S = np.random.lognormal(mu_ln, sigma_ln, size=N)"
   ]
  }
 ],
 "metadata": {
  "kernelspec": {
   "display_name": "coolvenv",
   "language": "python",
   "name": "python3"
  },
  "language_info": {
   "codemirror_mode": {
    "name": "ipython",
    "version": 3
   },
   "file_extension": ".py",
   "mimetype": "text/x-python",
   "name": "python",
   "nbconvert_exporter": "python",
   "pygments_lexer": "ipython3",
   "version": "3.13.3"
  }
 },
 "nbformat": 4,
 "nbformat_minor": 5
}
