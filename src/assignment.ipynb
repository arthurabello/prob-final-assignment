{
 "cells": [
  {
   "cell_type": "markdown",
   "id": "8455b468",
   "metadata": {},
   "source": [
    "Imports and User parameters\n"
   ]
  },
  {
   "cell_type": "code",
   "execution_count": 127,
   "id": "4825cd63",
   "metadata": {},
   "outputs": [
    {
     "name": "stdout",
     "output_type": "stream",
     "text": [
      "id = 2, m = 5.5, c = 0.02, f = 0.35, N = 425, M = 3000\n"
     ]
    }
   ],
   "source": [
    "import pandas as pd\n",
    "import numpy as np\n",
    "import math\n",
    "\n",
    "df = pd.read_excel(\"../data/dados-2025.xlsx\", sheet_name=\"Planilha1\")\n",
    "row = df.loc[df[\"Nome\"].str.contains(\"Arthur Rabello Oliveira\")].iloc[0]\n",
    "\n",
    "iD, m, c, f, N, M = (\n",
    "    int(row[\"ID\"]),\n",
    "    float(row[\"m\"]),\n",
    "    float(row[\"c\"]),\n",
    "    float(row[\"f\"]),\n",
    "    int(float(row[\"N\"])),\n",
    "    int(float(row[\"M\"])),\n",
    ")\n",
    "\n",
    "print(f\"id = {iD}, m = {m}, c = {c}, f = {f}, N = {N}, M = {M}\")\n"
   ]
  },
  {
   "cell_type": "markdown",
   "id": "bfb12ae2",
   "metadata": {},
   "source": [
    "Problema 1 a)"
   ]
  },
  {
   "cell_type": "code",
   "execution_count": 128,
   "id": "5f07b591",
   "metadata": {},
   "outputs": [
    {
     "name": "stdout",
     "output_type": "stream",
     "text": [
      "Service duration:  mean = 5.057 min,  std = 4.644 min\n",
      "Waiting time:      mean = 4.803 min,  std = 8.457 min\n",
      "P(wait > 3 min) = 36.670%\n",
      "Fraction of server idle time = 48.830%\n"
     ]
    }
   ],
   "source": [
    "# ------------------------\n",
    "# Exercise parameters\n",
    "# ------------------------\n",
    "arrival_rate      = 1 / 10  # arrival rate (1 customer every 10 min ⇒ λ = 0.1 min⁻¹)\n",
    "n_customers = 10_000        # simulation size\n",
    "\n",
    "fast_fraction = 0.35        # fraction of “fast” customers\n",
    "slope = 0.02                # slope of the linear pdf (2–6 min)\n",
    "mean_exp = 5.5              # mean (min) of the exponential service time for the others\n",
    "\n",
    "# ------------------------\n",
    "# Utility function: samples service times for fast customers\n",
    "# pdf:  f(x) = 0.25 + slope·(x – 4)  for  2 < x < 6\n",
    "# ------------------------\n",
    "def sample_linear_en(size, slope=slope):\n",
    "    a = 0.25 - 4 * slope         # f(x) = a + b·x  (b = slope)\n",
    "    b = slope\n",
    "    A = b / 2                    # coefficient of x² in the CDF\n",
    "    B = a\n",
    "    u = np.random.rand(size)     # uniform samples (0, 1)\n",
    "\n",
    "    # Solve A·x² + B·x – (2a + 2b) – u = 0  (positive root → x ∈ (2, 6))\n",
    "    C = -2 * a - 2 * b - u\n",
    "    x = (-B + np.sqrt(B ** 2 - 4 * A * C)) / (2 * A)\n",
    "    return x\n",
    "\n",
    "# ------------------------\n",
    "# 1. Generate arrivals\n",
    "# ------------------------\n",
    "rng = np.random.default_rng()\n",
    "inter_arrival_times = rng.exponential(scale=1 / arrival_rate, size=n_customers)  # scale = 10 min\n",
    "arrivals = np.cumsum(inter_arrival_times)\n",
    "\n",
    "# ------------------------\n",
    "# 2. Generate service times\n",
    "# ------------------------\n",
    "is_fast = rng.random(n_customers) < fast_fraction\n",
    "\n",
    "service_times = np.empty(n_customers)\n",
    "service_times[is_fast]  = sample_linear_en(is_fast.sum())\n",
    "service_times[~is_fast] = rng.exponential(scale=mean_exp, size=(~is_fast).sum())\n",
    "\n",
    "# ------------------------\n",
    "# 3. Simulate the queue (M/G/1) and measure waits/idleness\n",
    "# ------------------------\n",
    "start_times   = np.empty(n_customers)\n",
    "end_times     = np.empty(n_customers)\n",
    "idle_time = 0.0\n",
    "\n",
    "# customer 0\n",
    "start_times[0] = arrivals[0]\n",
    "end_times[0]   = start_times[0] + service_times[0]\n",
    "\n",
    "# remaining customers\n",
    "for i in range(1, n_customers):\n",
    "    if arrivals[i] > end_times[i - 1]:\n",
    "        idle_time += arrivals[i] - end_times[i - 1]          # server was idle\n",
    "    start_times[i] = max(arrivals[i], end_times[i - 1])\n",
    "    end_times[i]   = start_times[i] + service_times[i]\n",
    "\n",
    "wait_times = start_times - arrivals\n",
    "\n",
    "# ------------------------\n",
    "# 4. Requested statistics\n",
    "# ------------------------\n",
    "mean_service  = service_times.mean()\n",
    "std_service   = service_times.std(ddof=1)\n",
    "mean_wait     = wait_times.mean()\n",
    "std_wait      = wait_times.std(ddof=1)\n",
    "p_wait3       = np.mean(wait_times > 3)            # P(wait > 3 min)\n",
    "idle_fraction = idle_time / end_times[-1]\n",
    "\n",
    "print(f\"Service duration:  mean = {mean_service:.3f} min,  std = {std_service:.3f} min\")\n",
    "print(f\"Waiting time:      mean = {mean_wait:.3f} min,  std = {std_wait:.3f} min\")\n",
    "print(f\"P(wait > 3 min) = {p_wait3:.3%}\")\n",
    "print(f\"Fraction of server idle time = {idle_fraction:.3%}\")\n"
   ]
  },
  {
   "cell_type": "markdown",
   "id": "4d3aea34",
   "metadata": {},
   "source": [
    "Problem 2 (a) and (c)"
   ]
  },
  {
   "cell_type": "code",
   "execution_count": 129,
   "id": "56992cbd",
   "metadata": {},
   "outputs": [
    {
     "name": "stdout",
     "output_type": "stream",
     "text": [
      "Item (a) — simulation 1 album (n=1000):\n",
      "  mean = 2829.78\n",
      "  standard deviation = 553.49\n",
      "\n",
      "Item (c) — P(total > 3000) ≈ 31.100%\n"
     ]
    }
   ],
   "source": [
    "# ------------------------\n",
    "# Problem parameters\n",
    "# ------------------------   \n",
    "n_rep = 1000     # number of simulation repetitions\n",
    "rng   = np.random.default_rng()\n",
    "\n",
    "def simulate_album(N):\n",
    "    \"\"\"Simulates the total number of stickers bought until completing 1 album.\"\"\"\n",
    "    missing = set(range(N))\n",
    "    purchases = 0\n",
    "    while missing:\n",
    "        s = rng.integers(N)   # drawn sticker\n",
    "        purchases += 1\n",
    "        missing.discard(s)\n",
    "    return purchases\n",
    "\n",
    "totals = np.array([simulate_album(N) for _ in range(n_rep)])\n",
    "\n",
    "mean_sim = totals.mean()\n",
    "std_sim  = totals.std(ddof=1)\n",
    "p_greater_M = np.mean(totals > M)\n",
    "\n",
    "print(f\"Item (a) — simulation 1 album (n={n_rep}):\")\n",
    "print(f\"  mean = {mean_sim:.2f}\")\n",
    "print(f\"  standard deviation = {std_sim:.2f}\")\n",
    "\n",
    "print(f\"\\nItem (c) — P(total > {M}) ≈ {p_greater_M:.3%}\")\n"
   ]
  },
  {
   "cell_type": "markdown",
   "id": "8158e5ec",
   "metadata": {},
   "source": [
    "Problem 2 item (b)"
   ]
  },
  {
   "cell_type": "code",
   "execution_count": 130,
   "id": "23024cb5",
   "metadata": {},
   "outputs": [
    {
     "name": "stdout",
     "output_type": "stream",
     "text": [
      "Item (b) — analytical values for 1 album:\n",
      "  exact mean        = 2817.95\n",
      "  exact standard deviation = 542.10\n",
      "\n",
      "Comparison with the simulation (Previous Cell):\n",
      "  relative difference in the mean = 0.420%\n"
     ]
    }
   ],
   "source": [
    "# Probability of “success” (drawing a new sticker) when there are j missing\n",
    "p = np.arange(N, 0, -1) / N          # p_j  for j = N, …, 1\n",
    "\n",
    "# Each step has geometric(p_j) distribution (support 1,2,…)\n",
    "esp = (1 / p).sum()         \n",
    "var = ((1 - p)/p**2).sum()          \n",
    "desv = math.sqrt(var)\n",
    "\n",
    "print(\"Item (b) — analytical values for 1 album:\")\n",
    "print(f\"  exact mean        = {esp:.2f}\")\n",
    "print(f\"  exact standard deviation = {desv:.2f}\")\n",
    "\n",
    "print(\"\\nComparison with the simulation (Previous Cell):\")\n",
    "print(f\"  relative difference in the mean = {(mean_sim/esp - 1):.3%}\")"
   ]
  },
  {
   "cell_type": "markdown",
   "id": "00fa24d0",
   "metadata": {},
   "source": [
    "Problem 2 item (d)"
   ]
  },
  {
   "cell_type": "code",
   "execution_count": 131,
   "id": "8fcfa157",
   "metadata": {},
   "outputs": [
    {
     "name": "stdout",
     "output_type": "stream",
     "text": [
      "Item (d) — two people with exchanges:\n",
      "  mean purchases to complete BOTH albums = 3802.36\n",
      "  ratio compared to 1 album (Cell 2)     = 1.344\n"
     ]
    }
   ],
   "source": [
    "def simulate_two_albums(N):\n",
    "    \"\"\"Simulates purchases until TWO albums are completed, allowing exchanges.\"\"\"\n",
    "    missing_A = set(range(N))\n",
    "    missing_B = set(range(N))\n",
    "    purchases = 0\n",
    "\n",
    "    while missing_A or missing_B:\n",
    "        s = rng.integers(N)\n",
    "        purchases += 1\n",
    "        # Priority: give the sticker to whoever doesn't have it yet\n",
    "        if s in missing_A:\n",
    "            missing_A.remove(s)\n",
    "        elif s in missing_B:\n",
    "            missing_B.remove(s)\n",
    "        # otherwise both already had it ⇒ extra copy with no use\n",
    "    return purchases\n",
    "\n",
    "totals_2 = np.array([simulate_two_albums(N) for _ in range(n_rep)])\n",
    "mean_2  = totals_2.mean()\n",
    "\n",
    "print(\"Item (d) — two people with exchanges:\")\n",
    "print(f\"  mean purchases to complete BOTH albums = {mean_2:.2f}\")\n",
    "print(f\"  ratio compared to 1 album (Cell 2)     = {mean_2 / mean_sim:.3f}\")"
   ]
  },
  {
   "cell_type": "markdown",
   "id": "cc4e6b8c",
   "metadata": {},
   "source": [
    "Simple Analysis"
   ]
  },
  {
   "cell_type": "code",
   "execution_count": 132,
   "id": "2daad187",
   "metadata": {},
   "outputs": [
    {
     "name": "stdout",
     "output_type": "stream",
     "text": [
      "1 album                             :    2830\n",
      "2 albums, WITHOUT exchange (2x)     :    5660\n",
      "2 albums, WITH exchange             :    3802\n",
      "Absolute savings                    :    1857\n",
      "Relative savings                    : 32.8%\n"
     ]
    }
   ],
   "source": [
    "print(f\"1 album                             : {mean_sim:7.0f}\")\n",
    "print(f\"2 albums, WITHOUT exchange (2x)     : {2*mean_sim:7.0f}\")\n",
    "print(f\"2 albums, WITH exchange             : {mean_2:7.0f}\")\n",
    "print(f\"Absolute savings                    : {2*mean_sim - mean_2:7.0f}\")\n",
    "print(f\"Relative savings                    : {(1-mean_2/(2*mean_sim)):.1%}\")\n"
   ]
  }
 ],
 "metadata": {
  "kernelspec": {
   "display_name": "coolvenv",
   "language": "python",
   "name": "python3"
  },
  "language_info": {
   "codemirror_mode": {
    "name": "ipython",
    "version": 3
   },
   "file_extension": ".py",
   "mimetype": "text/x-python",
   "name": "python",
   "nbconvert_exporter": "python",
   "pygments_lexer": "ipython3",
   "version": "3.13.3"
  }
 },
 "nbformat": 4,
 "nbformat_minor": 5
}
